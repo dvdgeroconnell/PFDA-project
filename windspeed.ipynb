{
 "cells": [
  {
   "cell_type": "markdown",
   "metadata": {},
   "source": [
    "\n",
    "## Data, URLs\n",
    "\n",
    "### Weather Data\n",
    "[Met Eireann Historical Data](https://www.met.ie/climate/available-data/historical-data)\n",
    "\n",
    "\n",
    "### Athenry  \n",
    "[Hourly wind data since 2010](https://cli.fusio.net/cli/climate_data/webdata/hly1875.zip)\n",
    "[Daily ](https://cli.fusio.net/cli/climate_data/webdata/dly1875.zip)\n",
    "\n",
    "\n",
    "### Units\n",
    "All wind speed and highes gust units are in knots (kt).  A knot is one nautical mile per hour, or about 1.15 statute miles per hour or 1.852 km/h.\n",
    "\n",
    "### Wind Speed\n",
    "from [Google's Generative AI](https://www.google.com)\n",
    "Large-scale wind turbines typically start turning at wind speeds of 7–9 miles per hour and reach their maximum output at around 27 miles per hour. They begin to reduce power or disconnect at wind speeds above 25 miles per hour. At these high speeds, the turbine's braking system activates to prevent damage to the blades. \n",
    "Efficiency\n",
    "Wind turbines are most efficient at around 18 miles per hour. \n",
    "The consistency of the wind is more important than the speed for producing the most wind power. \n",
    "\n",
    "[Ireland](https://enerpower.ie/portfolio-item/wind-turbine-faq-ireland/)\n",
    "Wind turbines typically start operating at wind speeds around Beaufort Force 3, or around 3-5 metres per second (m/s), or 8-12 miles per hour (mph). Turbines reach maximum power output at Beaufort 5 (around 11-14 m/s or 25-30 mph).  1609.3m in a mile\n",
    "\n",
    "| Wind Speed m/s | Wind Speed mi/h | What Happens |  \n",
    "|----------------|-----------------|--------------|  \n",
    "| ≤ 3-5  | ≤ 8-12  | Wind turbines start operating  |  \n",
    "| 11–14  |  25-30  | Wind turbines reach maximum power output  |   \n",
    "| ≥ 24   | ≥ 55    | Wind turbines shut down to prevent damage  |   \n",
    "\n",
    "To take a specific example, the Siemens SWT-3.0-101 3MW turbine is use in the Galway Wind Park, located in the Cloosh Valley south-west of Oughterard in Co. Galway. 58 of these are deployed for a total yield of 174MW.\n",
    "https://www.sserenewables.com/onshore-wind/ireland/galway-wind-park/\n",
    "\n",
    "\n",
    "Siemens SWT-3.0-101 3MW TURBINES\n",
    "https://www.thewindpower.net/turbine_en_275_siemens_swt-3.0-101.php\n",
    "\n"
   ]
  },
  {
   "cell_type": "code",
   "execution_count": null,
   "metadata": {},
   "outputs": [],
   "source": []
  },
  {
   "cell_type": "code",
   "execution_count": 213,
   "metadata": {},
   "outputs": [],
   "source": [
    "# Import the required packages\n",
    "import numpy as np\n",
    "import matplotlib.pyplot as plt\n",
    "\n",
    "import pandas as pd\n",
    "import seaborn as sns\n",
    "#from matplotlib.ticker import MultipleLocator"
   ]
  },
  {
   "cell_type": "code",
   "execution_count": 245,
   "metadata": {},
   "outputs": [
    {
     "data": {
      "text/plain": [
       "<bound method NDFrame.describe of     windspeed  power\n",
       "0         0.0      0\n",
       "1         0.5      0\n",
       "2         1.0      0\n",
       "3         1.5      0\n",
       "4         2.0      0\n",
       "5         2.5      0\n",
       "6         3.0      0\n",
       "7         3.5     50\n",
       "8         4.0    113\n",
       "9         4.5    183\n",
       "10        5.0    253\n",
       "11        5.5    342\n",
       "12        6.0    430\n",
       "13        6.5    569\n",
       "14        7.0    707\n",
       "15        7.5    891\n",
       "16        8.0   1075\n",
       "17        8.5   1306\n",
       "18        9.0   1537\n",
       "19        9.5   1796\n",
       "20       10.0   2054\n",
       "21       10.5   2302\n",
       "22       11.0   2549\n",
       "23       11.5   2750\n",
       "24       12.0   2876\n",
       "25       12.5   2950\n",
       "26       13.0   2982\n",
       "27       13.5   2995\n",
       "28       14.0   2998\n",
       "29       14.5   3000\n",
       "30       15.0   3000\n",
       "31       15.5   3000\n",
       "32       16.0   3000\n",
       "33       16.5   3000\n",
       "34       17.0   3000\n",
       "35       17.5   3000\n",
       "36       18.0   3000\n",
       "37       18.5   3000\n",
       "38       19.0   3000\n",
       "39       19.5   3000\n",
       "40       20.0   3000\n",
       "41       20.5   3000\n",
       "42       21.0   3000\n",
       "43       21.5   3000\n",
       "44       22.0   3000\n",
       "45       22.5   3000\n",
       "46       23.0   3000\n",
       "47       23.5   3000\n",
       "48       24.0   3000\n",
       "49       24.5   3000\n",
       "50       25.0   3000\n",
       "51       25.5      0\n",
       "52       26.0      0>"
      ]
     },
     "execution_count": 245,
     "metadata": {},
     "output_type": "execute_result"
    }
   ],
   "source": [
    "# The following \n",
    "#rating = np.array([['0', 0],['0.5', 0],['1', 0],['1.5', 0],['2', 0],['2.5', 0],['3', 0],['3.5', 50],['4', 113],['4.5', 183],['5', 253],['5.5', 342],['6', 430],['6.5', 569],['7', 707],['7.5', 891],['8', 1075],['8.5', 1306],['9', 1537],['9.5', 1796],['10', 2054],['10.5', 2302],['11', 2549],['11.5', 2750],['12', 2876],['12.5', 2950],['13', 2982],['13.5', 2995],['14', 2998],['14.5', 3000],['15', 3000],['15.5', 3000],['16', 3000],['16.5', 3000],['17', 3000],['17.5', 3000],['18', 3000],['18.5', 3000],['19', 3000],['19.5', 3000],['20', 3000],['20.5', 3000],['21', 3000],['21.5', 3000],['22', 3000],['22.5', 3000],['23', 3000],['23.5', 3000],['24', 3000],['24.5', 3000],['25', 3000],['25.5', 0],['26', 0]])\n",
    "#ratingp = pd.DataFrame(data = rating, columns = [\"windspeed\", \"power\"])\n",
    "#rating = rating.astype('float')\n",
    "#ratingp = pd.DataFrame(data = rating, columns = [\"windspeed\", \"power\"])\n",
    "ratingp = pd.read_csv(\"./data/poweroutput.txt\",sep=\",\", header=None, names=[\"windspeed\", \"power\"])\n",
    "ratingp.describe"
   ]
  },
  {
   "cell_type": "code",
   "execution_count": 246,
   "metadata": {},
   "outputs": [
    {
     "data": {
      "text/plain": [
       "(0.0, 27.0)"
      ]
     },
     "execution_count": 246,
     "metadata": {},
     "output_type": "execute_result"
    },
    {
     "data": {
      "image/png": "[encoded data removed]",
      "text/plain": [
       "<Figure size 550x250 with 1 Axes>"
      ]
     },
     "metadata": {},
     "output_type": "display_data"
    }
   ],
   "source": [
    "# Read in and plot the power output vs wind speed data\n",
    "\n",
    "fig, axes = plt.subplots(nrows=1, ncols=1, figsize=(5.5,2.5))\n",
    "axes.bar(ratingp.windspeed[0:10], ratingp.power[0:10], color='red',width=0.31)\n",
    "axes.bar(ratingp.windspeed[10:20], ratingp.power[10:20], color='orange',width=0.31)\n",
    "axes.bar(ratingp.windspeed[20:30], ratingp.power[20:30], color='greenyellow',width=0.31)\n",
    "axes.bar(ratingp.windspeed[30:40], ratingp.power[30:40], color='limegreen',width=0.31)\n",
    "axes.bar(ratingp.windspeed[51:53], ratingp.power[51:53], color='red',width=0.31)\n",
    "\n",
    "axes.xaxis.set_major_locator(plt.MaxNLocator(6))\n",
    "plt.xlim([0, max(ratingp.windspeed)+1.0])"
   ]
  },
  {
   "cell_type": "markdown",
   "metadata": {},
   "source": []
  }
 ],
 "metadata": {
  "kernelspec": {
   "display_name": "base",
   "language": "python",
   "name": "python3"
  },
  "language_info": {
   "codemirror_mode": {
    "name": "ipython",
    "version": 3
   },
   "file_extension": ".py",
   "mimetype": "text/x-python",
   "name": "python",
   "nbconvert_exporter": "python",
   "pygments_lexer": "ipython3",
   "version": "3.11.7"
  }
 },
 "nbformat": 4,
 "nbformat_minor": 2
}
