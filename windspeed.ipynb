{
 "cells": [
  {
   "cell_type": "markdown",
   "metadata": {},
   "source": [
    "\n",
    "## Data, URLs\n",
    "\n",
    "### Weather Data\n",
    "[Met Eireann Historical Data](https://www.met.ie/climate/available-data/historical-data)\n",
    "\n",
    "\n",
    "### Athenry  \n",
    "[Hourly wind data since 2010](https://cli.fusio.net/cli/climate_data/webdata/hly1875.zip)\n",
    "[Daily ](https://cli.fusio.net/cli/climate_data/webdata/dly1875.zip)\n",
    "\n",
    "\n",
    "### Units\n",
    "All wind speed and highes gust units are in knots (kt).  A knot is one nautical mile per hour, or about 1.15 statute miles per hour or 1.852 km/h.\n",
    "\n",
    "### Wind Speed\n",
    "from [Google's Generative AI](https://www.google.com)\n",
    "Large-scale wind turbines typically start turning at wind speeds of 7–9 miles per hour and reach their maximum output at around 27 miles per hour. They begin to reduce power or disconnect at wind speeds above 25 miles per hour. At these high speeds, the turbine's braking system activates to prevent damage to the blades. \n",
    "Efficiency\n",
    "Wind turbines are most efficient at around 18 miles per hour. \n",
    "The consistency of the wind is more important than the speed for producing the most wind power. \n",
    "\n",
    "[Ireland](https://enerpower.ie/portfolio-item/wind-turbine-faq-ireland/)\n",
    "Wind turbines typically start operating at wind speeds around Beaufort Force 3, or around 3-5 metres per second (m/s), or 8-12 miles per hour (mph). Turbines reach maximum power output at Beaufort 5 (around 11-14 m/s or 25-30 mph).  1609.3m in a mile\n",
    "\n",
    "| Wind Speed m/s | Wind Speed mi/h | What Happens |  \n",
    "|----------------|-----------------|--------------|  \n",
    "| ≤ 3-5  | ≤ 8-12  | Wind turbines start operating  |  \n",
    "| 11–14  |  25-30  | Wind turbines reach maximum power output  |   \n",
    "| ≥ 24   | ≥ 55    | Wind turbines shut down to prevent damage  |   \n",
    "\n",
    "To take a specific example, the [Siemens SWT-3.0-101 3MW turbine](https://www.thewindpower.net/turbine_en_275_siemens_swt-3.0-101.php) is use in the [Galway Wind Park](https://www.sserenewables.com/onshore-wind/ireland/galway-wind-park/), located in the Cloosh Valley south-west of Oughterard in Co. Galway. 58 of these are deployed for a total yield of 174MW. This was the largest wind park in the country until it was overtaken by the second phase of the 192MW [Oweninny Wind Farm](https://www.oweninnywindfarm.ie/the-wind-farm/), which uses 29 3.2MW Siemens SWT-3.2-113 turbines with an installed capacity of 93MW and 31 Nordex N117/3600 wind turbines with an installed capacity of 99MW."
   ]
  },
  {
   "cell_type": "code",
   "execution_count": 260,
   "metadata": {},
   "outputs": [],
   "source": [
    "# Import the required packages\n",
    "import numpy as np\n",
    "import matplotlib.pyplot as plt\n",
    "import pandas as pd\n",
    "import seaborn as sns"
   ]
  },
  {
   "cell_type": "code",
   "execution_count": 261,
   "metadata": {},
   "outputs": [],
   "source": [
    "# The following \n",
    "#rating = np.array([['0', 0],['0.5', 0],['1', 0],['1.5', 0],['2', 0],['2.5', 0],['3', 0],['3.5', 50],['4', 113],['4.5', 183],['5', 253],['5.5', 342],['6', 430],['6.5', 569],['7', 707],['7.5', 891],['8', 1075],['8.5', 1306],['9', 1537],['9.5', 1796],['10', 2054],['10.5', 2302],['11', 2549],['11.5', 2750],['12', 2876],['12.5', 2950],['13', 2982],['13.5', 2995],['14', 2998],['14.5', 3000],['15', 3000],['15.5', 3000],['16', 3000],['16.5', 3000],['17', 3000],['17.5', 3000],['18', 3000],['18.5', 3000],['19', 3000],['19.5', 3000],['20', 3000],['20.5', 3000],['21', 3000],['21.5', 3000],['22', 3000],['22.5', 3000],['23', 3000],['23.5', 3000],['24', 3000],['24.5', 3000],['25', 3000],['25.5', 0],['26', 0]])\n",
    "#ratingp = pd.DataFrame(data = rating, columns = [\"windspeed\", \"power\"])\n",
    "#rating = rating.astype('float')\n",
    "#ratingp = pd.DataFrame(data = rating, columns = [\"windspeed\", \"power\"])\n"
   ]
  },
  {
   "cell_type": "code",
   "execution_count": 348,
   "metadata": {},
   "outputs": [
    {
     "data": {
      "text/plain": [
       "(0.0, 27.0)"
      ]
     },
     "execution_count": 348,
     "metadata": {},
     "output_type": "execute_result"
    },
    {
     "data": {
      "image/png": "[encoded data removed]",
      "text/plain": [
       "<Figure size 550x250 with 1 Axes>"
      ]
     },
     "metadata": {},
     "output_type": "display_data"
    }
   ],
   "source": [
    "# Read in and plot the power output vs wind speed data\n",
    "ratingp = pd.read_csv(\"./data/poweroutput.txt\",sep=\",\", header=None, names=[\"windspeed\", \"power\"])\n",
    "fig, axes = plt.subplots(nrows=1, ncols=1, figsize=(5.5,2.5))\n",
    "output = ['unacceptable','poor','good','excellent']\n",
    "axes.bar(ratingp.windspeed[0:10], ratingp.power[0:10], color='red',width=0.31)\n",
    "axes.bar(ratingp.windspeed[10:18], ratingp.power[10:18], color='orange',width=0.31)\n",
    "axes.bar(ratingp.windspeed[18:24], ratingp.power[18:24], color='greenyellow',width=0.31)\n",
    "axes.bar(ratingp.windspeed[24:52], ratingp.power[24:52], color='limegreen',width=0.31)\n",
    "axes.bar(ratingp.windspeed[52:54], ratingp.power[52:54], color='red',width=0.31)\n",
    "axes.set_title('Siemens SWT-3.0-101 output by wind speed', fontsize=12)\n",
    "axes.xaxis.set_major_locator(plt.MaxNLocator(6))\n",
    "plt.legend(bbox_to_anchor=(1.4, 1), loc='upper right',labels=output, fontsize=9)\n",
    "plt.xlim([0, max(ratingp.windspeed)+1.0])\n"
   ]
  },
  {
   "cell_type": "markdown",
   "metadata": {},
   "source": [
    "## Analysis - Weather Data\n",
    "While there are 31 weather stations in Galwy making daily weather available for [download](https://www.met.ie/climate/available-data/historical-data), most focus on precipitation and only 2 provide wind speed - Athenry and Mace Head. The study will focus on data from Athenry weather station.\n",
    "\n",
    "According to the information in the header of the csv file, the fields we are interested in are:\n",
    "date:  -  00 to 00 utc\n",
    "wdsp:  -  Mean Wind Speed (kt)\n",
    "hm:    -  Highest ten minute mean wind speed (kt)\t\t                 \n",
    "hg:    -  Highest Gust (kt)"
   ]
  },
  {
   "cell_type": "code",
   "execution_count": 263,
   "metadata": {},
   "outputs": [
    {
     "data": {
      "text/plain": [
       "date       object\n",
       "ind         int64\n",
       "maxtp     float64\n",
       "ind.1       int64\n",
       "mintp     float64\n",
       "igmin      object\n",
       "gmin       object\n",
       "ind.2       int64\n",
       "rain       object\n",
       "cbl        object\n",
       "wdsp       object\n",
       "ind.3       int64\n",
       "hm          int64\n",
       "ind.4       int64\n",
       "ddhm       object\n",
       "ind.5       int64\n",
       "hg          int64\n",
       "soil       object\n",
       "pe         object\n",
       "evap       object\n",
       "smd_wd     object\n",
       "smd_md     object\n",
       "smd_pd     object\n",
       "glorad     object\n",
       "dtype: object"
      ]
     },
     "execution_count": 263,
     "metadata": {},
     "output_type": "execute_result"
    }
   ],
   "source": [
    "df = pd.read_csv(\"data/dly1875.csv\", skiprows=24,low_memory=False)\n",
    "#df = df.drop(0)\n",
    "df.dtypes"
   ]
  },
  {
   "cell_type": "code",
   "execution_count": 264,
   "metadata": {},
   "outputs": [
    {
     "data": {
      "text/html": [
       "<div>\n",
       "<style scoped>\n",
       "    .dataframe tbody tr th:only-of-type {\n",
       "        vertical-align: middle;\n",
       "    }\n",
       "\n",
       "    .dataframe tbody tr th {\n",
       "        vertical-align: top;\n",
       "    }\n",
       "\n",
       "    .dataframe thead th {\n",
       "        text-align: right;\n",
       "    }\n",
       "</style>\n",
       "<table border=\"1\" class=\"dataframe\">\n",
       "  <thead>\n",
       "    <tr style=\"text-align: right;\">\n",
       "      <th></th>\n",
       "      <th>ind</th>\n",
       "      <th>maxtp</th>\n",
       "      <th>ind.1</th>\n",
       "      <th>mintp</th>\n",
       "      <th>ind.2</th>\n",
       "      <th>ind.3</th>\n",
       "      <th>hm</th>\n",
       "      <th>ind.4</th>\n",
       "      <th>ind.5</th>\n",
       "      <th>hg</th>\n",
       "    </tr>\n",
       "  </thead>\n",
       "  <tbody>\n",
       "    <tr>\n",
       "      <th>count</th>\n",
       "      <td>5392.000000</td>\n",
       "      <td>5392.00000</td>\n",
       "      <td>5392.000000</td>\n",
       "      <td>5392.000000</td>\n",
       "      <td>5392.000000</td>\n",
       "      <td>5392.0</td>\n",
       "      <td>5392.000000</td>\n",
       "      <td>5392.000000</td>\n",
       "      <td>5392.0</td>\n",
       "      <td>5392.000000</td>\n",
       "    </tr>\n",
       "    <tr>\n",
       "      <th>mean</th>\n",
       "      <td>0.000371</td>\n",
       "      <td>13.74349</td>\n",
       "      <td>0.000371</td>\n",
       "      <td>6.133309</td>\n",
       "      <td>0.001484</td>\n",
       "      <td>0.0</td>\n",
       "      <td>13.629080</td>\n",
       "      <td>0.000185</td>\n",
       "      <td>0.0</td>\n",
       "      <td>21.741283</td>\n",
       "    </tr>\n",
       "    <tr>\n",
       "      <th>std</th>\n",
       "      <td>0.027237</td>\n",
       "      <td>4.75704</td>\n",
       "      <td>0.027237</td>\n",
       "      <td>4.725115</td>\n",
       "      <td>0.108947</td>\n",
       "      <td>0.0</td>\n",
       "      <td>4.810259</td>\n",
       "      <td>0.013618</td>\n",
       "      <td>0.0</td>\n",
       "      <td>8.100648</td>\n",
       "    </tr>\n",
       "    <tr>\n",
       "      <th>min</th>\n",
       "      <td>0.000000</td>\n",
       "      <td>-5.70000</td>\n",
       "      <td>0.000000</td>\n",
       "      <td>-15.800000</td>\n",
       "      <td>0.000000</td>\n",
       "      <td>0.0</td>\n",
       "      <td>1.000000</td>\n",
       "      <td>0.000000</td>\n",
       "      <td>0.0</td>\n",
       "      <td>2.000000</td>\n",
       "    </tr>\n",
       "    <tr>\n",
       "      <th>25%</th>\n",
       "      <td>0.000000</td>\n",
       "      <td>10.40000</td>\n",
       "      <td>0.000000</td>\n",
       "      <td>2.700000</td>\n",
       "      <td>0.000000</td>\n",
       "      <td>0.0</td>\n",
       "      <td>10.000000</td>\n",
       "      <td>0.000000</td>\n",
       "      <td>0.0</td>\n",
       "      <td>16.000000</td>\n",
       "    </tr>\n",
       "    <tr>\n",
       "      <th>50%</th>\n",
       "      <td>0.000000</td>\n",
       "      <td>13.80000</td>\n",
       "      <td>0.000000</td>\n",
       "      <td>6.400000</td>\n",
       "      <td>0.000000</td>\n",
       "      <td>0.0</td>\n",
       "      <td>13.000000</td>\n",
       "      <td>0.000000</td>\n",
       "      <td>0.0</td>\n",
       "      <td>21.000000</td>\n",
       "    </tr>\n",
       "    <tr>\n",
       "      <th>75%</th>\n",
       "      <td>0.000000</td>\n",
       "      <td>17.20000</td>\n",
       "      <td>0.000000</td>\n",
       "      <td>9.900000</td>\n",
       "      <td>0.000000</td>\n",
       "      <td>0.0</td>\n",
       "      <td>16.000000</td>\n",
       "      <td>0.000000</td>\n",
       "      <td>0.0</td>\n",
       "      <td>26.000000</td>\n",
       "    </tr>\n",
       "    <tr>\n",
       "      <th>max</th>\n",
       "      <td>2.000000</td>\n",
       "      <td>30.50000</td>\n",
       "      <td>2.000000</td>\n",
       "      <td>18.000000</td>\n",
       "      <td>8.000000</td>\n",
       "      <td>0.0</td>\n",
       "      <td>38.000000</td>\n",
       "      <td>1.000000</td>\n",
       "      <td>0.0</td>\n",
       "      <td>62.000000</td>\n",
       "    </tr>\n",
       "  </tbody>\n",
       "</table>\n",
       "</div>"
      ],
      "text/plain": [
       "               ind       maxtp        ind.1        mintp        ind.2   ind.3  \\\n",
       "count  5392.000000  5392.00000  5392.000000  5392.000000  5392.000000  5392.0   \n",
       "mean      0.000371    13.74349     0.000371     6.133309     0.001484     0.0   \n",
       "std       0.027237     4.75704     0.027237     4.725115     0.108947     0.0   \n",
       "min       0.000000    -5.70000     0.000000   -15.800000     0.000000     0.0   \n",
       "25%       0.000000    10.40000     0.000000     2.700000     0.000000     0.0   \n",
       "50%       0.000000    13.80000     0.000000     6.400000     0.000000     0.0   \n",
       "75%       0.000000    17.20000     0.000000     9.900000     0.000000     0.0   \n",
       "max       2.000000    30.50000     2.000000    18.000000     8.000000     0.0   \n",
       "\n",
       "                hm        ind.4   ind.5           hg  \n",
       "count  5392.000000  5392.000000  5392.0  5392.000000  \n",
       "mean     13.629080     0.000185     0.0    21.741283  \n",
       "std       4.810259     0.013618     0.0     8.100648  \n",
       "min       1.000000     0.000000     0.0     2.000000  \n",
       "25%      10.000000     0.000000     0.0    16.000000  \n",
       "50%      13.000000     0.000000     0.0    21.000000  \n",
       "75%      16.000000     0.000000     0.0    26.000000  \n",
       "max      38.000000     1.000000     0.0    62.000000  "
      ]
     },
     "execution_count": 264,
     "metadata": {},
     "output_type": "execute_result"
    }
   ],
   "source": [
    "df.describe()\n"
   ]
  },
  {
   "cell_type": "code",
   "execution_count": 265,
   "metadata": {},
   "outputs": [
    {
     "data": {
      "text/plain": [
       "<bound method NDFrame.describe of              date  ind  maxtp  ind.1  mintp igmin  gmin  ind.2 rain     cbl  \\\n",
       "0     26-feb-2010    0    7.6      0    1.8                  0  0.1   983.8   \n",
       "1     27-feb-2010    0    8.6      0   -2.4                  0  0.1   985.0   \n",
       "2     28-feb-2010    0    8.8      0   -3.3                  0  0.0   992.9   \n",
       "3     01-mar-2010    0   10.0      0   -4.3                  0  0.0  1006.3   \n",
       "4     02-mar-2010    0    8.2      0   -1.8                  0  0.0  1014.4   \n",
       "...           ...  ...    ...    ...    ...   ...   ...    ...  ...     ...   \n",
       "5387  26-nov-2024    0    9.1      0   -2.5     0  -6.1      0  0.0  1006.3   \n",
       "5388  27-nov-2024    0    0.6      0   -2.8     0  -5.5      0  0.0  1013.2   \n",
       "5389  28-nov-2024    0   13.9      0   -2.2     0  -3.6      0  2.2  1012.9   \n",
       "5390  29-nov-2024    0   14.1      0   11.8     0   4.8      0  2.9  1006.2   \n",
       "5391  30-nov-2024    0   15.6      0   10.2     0   5.8      0  1.6  1003.7   \n",
       "\n",
       "      ... ddhm  ind.5  hg    soil   pe  evap  smd_wd smd_md smd_pd glorad  \n",
       "0     ...  230      0  20                                             658  \n",
       "1     ...  170      0  14                                             859  \n",
       "2     ...  290      0  24                                             903  \n",
       "3     ...   50      0   8                                            1161  \n",
       "4     ...  120      0  19                                             735  \n",
       "...   ...  ...    ...  ..     ...  ...   ...     ...    ...    ...    ...  \n",
       "5387  ...  200      0   8   3.337  0.1   0.2     0.4    0.4   -8.6    380  \n",
       "5388  ...   80      0  11   2.398  0.1   0.1     0.5    0.5   -8.1    241  \n",
       "5389  ...  150      0  25   3.777  0.5   0.7     0.0   -1.2   -9.4     55  \n",
       "5390  ...  160      0  30   9.175  0.7   0.9     0.0   -2.2  -10.0     77  \n",
       "5391  ...  180      0  30  10.023  0.4   0.4     0.0   -1.2  -10.0    243  \n",
       "\n",
       "[5392 rows x 24 columns]>"
      ]
     },
     "execution_count": 265,
     "metadata": {},
     "output_type": "execute_result"
    }
   ],
   "source": [
    "df.describe"
   ]
  },
  {
   "cell_type": "code",
   "execution_count": null,
   "metadata": {},
   "outputs": [
    {
     "data": {
      "text/plain": [
       "date    object\n",
       "wdsp    object\n",
       "hm       int64\n",
       "hg       int64\n",
       "dtype: object"
      ]
     },
     "execution_count": 269,
     "metadata": {},
     "output_type": "execute_result"
    }
   ],
   "source": [
    "weather = pd.read_csv(\"data/dly1875.csv\", skiprows=24, usecols=['date', 'wdsp','hm','hg'],low_memory=False)\n",
    "weather.dtypes"
   ]
  },
  {
   "cell_type": "markdown",
   "metadata": {},
   "source": [
    "Windspeed was created as an object, because some cells countain a white space where wind data was not available on te day.came down as a "
   ]
  },
  {
   "cell_type": "code",
   "execution_count": 270,
   "metadata": {},
   "outputs": [
    {
     "data": {
      "text/html": [
       "<div>\n",
       "<style scoped>\n",
       "    .dataframe tbody tr th:only-of-type {\n",
       "        vertical-align: middle;\n",
       "    }\n",
       "\n",
       "    .dataframe tbody tr th {\n",
       "        vertical-align: top;\n",
       "    }\n",
       "\n",
       "    .dataframe thead th {\n",
       "        text-align: right;\n",
       "    }\n",
       "</style>\n",
       "<table border=\"1\" class=\"dataframe\">\n",
       "  <thead>\n",
       "    <tr style=\"text-align: right;\">\n",
       "      <th></th>\n",
       "      <th>date</th>\n",
       "      <th>wdsp</th>\n",
       "      <th>hm</th>\n",
       "      <th>hg</th>\n",
       "    </tr>\n",
       "  </thead>\n",
       "  <tbody>\n",
       "    <tr>\n",
       "      <th>0</th>\n",
       "      <td>26-feb-2010</td>\n",
       "      <td>8.3</td>\n",
       "      <td>14</td>\n",
       "      <td>20</td>\n",
       "    </tr>\n",
       "    <tr>\n",
       "      <th>1</th>\n",
       "      <td>27-feb-2010</td>\n",
       "      <td>4.3</td>\n",
       "      <td>9</td>\n",
       "      <td>14</td>\n",
       "    </tr>\n",
       "    <tr>\n",
       "      <th>2</th>\n",
       "      <td>28-feb-2010</td>\n",
       "      <td>4.9</td>\n",
       "      <td>17</td>\n",
       "      <td>24</td>\n",
       "    </tr>\n",
       "    <tr>\n",
       "      <th>3</th>\n",
       "      <td>01-mar-2010</td>\n",
       "      <td>2.3</td>\n",
       "      <td>6</td>\n",
       "      <td>8</td>\n",
       "    </tr>\n",
       "    <tr>\n",
       "      <th>4</th>\n",
       "      <td>02-mar-2010</td>\n",
       "      <td>7.1</td>\n",
       "      <td>12</td>\n",
       "      <td>19</td>\n",
       "    </tr>\n",
       "  </tbody>\n",
       "</table>\n",
       "</div>"
      ],
      "text/plain": [
       "          date wdsp  hm  hg\n",
       "0  26-feb-2010  8.3  14  20\n",
       "1  27-feb-2010  4.3   9  14\n",
       "2  28-feb-2010  4.9  17  24\n",
       "3  01-mar-2010  2.3   6   8\n",
       "4  02-mar-2010  7.1  12  19"
      ]
     },
     "execution_count": 270,
     "metadata": {},
     "output_type": "execute_result"
    }
   ],
   "source": [
    "weather.head(5)"
   ]
  },
  {
   "cell_type": "code",
   "execution_count": null,
   "metadata": {},
   "outputs": [
    {
     "data": {
      "text/plain": [
       "date     object\n",
       "wdsp    float64\n",
       "hm        int64\n",
       "hg        int64\n",
       "dtype: object"
      ]
     },
     "execution_count": 314,
     "metadata": {},
     "output_type": "execute_result"
    }
   ],
   "source": [
    "weather['wdsp'] = weather['wdsp'].replace(' ',-999)\n",
    "weather['wdsp'] = weather['wdsp'].astype(float)\n",
    "weather['wdsp'] = weather['wdsp'].replace(-999,np.nan)\n",
    "weather.dtypes\n",
    "#for row in weather.itertuples():\n",
    "    #if row.wdsp == ' ':\n",
    "    #    print('found blank ', row)\n"
   ]
  },
  {
   "cell_type": "code",
   "execution_count": 320,
   "metadata": {},
   "outputs": [
    {
     "name": "stdout",
     "output_type": "stream",
     "text": [
      "             date  wdsp  hm  hg\n",
      "4161  19-jul-2021   3.0   5  12\n",
      "4162  20-jul-2021   NaN   8  13\n",
      "4163  21-jul-2021   3.2   6  11\n"
     ]
    }
   ],
   "source": [
    "print(weather.iloc[4161:4164])"
   ]
  },
  {
   "cell_type": "code",
   "execution_count": null,
   "metadata": {},
   "outputs": [
    {
     "data": {
      "text/plain": [
       "Text(0.5, 1.0, 'Full Dataset')"
      ]
     },
     "execution_count": 322,
     "metadata": {},
     "output_type": "execute_result"
    },
    {
     "data": {
      "image/png": "[encoded data removed]",
      "text/plain": [
       "<Figure size 1600x800 with 2 Axes>"
      ]
     },
     "metadata": {},
     "output_type": "display_data"
    }
   ],
   "source": [
    "fig, axes = plt.subplots(nrows=1, ncols=2, figsize=(16,8))\n",
    "ax1 = axes[0]\n",
    "ax2 = axes[1]\n",
    "ax1.plot(weather[\"date\"], weather[\"wdsp\"])\n",
    "#ax1.plot(mean_daily_temp)\n",
    "#ax1.plot(mean_monthly_temp)\n",
    "#ax1.set_title('Full Dataset', fontsize=14)"
   ]
  },
  {
   "cell_type": "code",
   "execution_count": 327,
   "metadata": {},
   "outputs": [
    {
     "data": {
      "image/png": "[encoded data removed]",
      "text/plain": [
       "<Figure size 640x480 with 1 Axes>"
      ]
     },
     "metadata": {},
     "output_type": "display_data"
    }
   ],
   "source": [
    "sns.kdeplot(weather[\"wdsp\"])\n",
    "#weatherx = [0,4,8,11,25]\n",
    "#weathery = [0.2, 0.2, 0.2, 0.2, 0.2]\n",
    "#z = ['unacceptable','poor','good','excellent','unacceptable2']\n",
    "#sns.barplot(x=weatherx, y=weathery, hue=z)\n",
    "plt.show()\n"
   ]
  },
  {
   "cell_type": "code",
   "execution_count": 332,
   "metadata": {},
   "outputs": [
    {
     "data": {
      "text/html": [
       "<div>\n",
       "<style scoped>\n",
       "    .dataframe tbody tr th:only-of-type {\n",
       "        vertical-align: middle;\n",
       "    }\n",
       "\n",
       "    .dataframe tbody tr th {\n",
       "        vertical-align: top;\n",
       "    }\n",
       "\n",
       "    .dataframe thead th {\n",
       "        text-align: right;\n",
       "    }\n",
       "</style>\n",
       "<table border=\"1\" class=\"dataframe\">\n",
       "  <thead>\n",
       "    <tr style=\"text-align: right;\">\n",
       "      <th></th>\n",
       "      <th>date</th>\n",
       "      <th>wdsp</th>\n",
       "      <th>hm</th>\n",
       "      <th>hg</th>\n",
       "      <th>category</th>\n",
       "    </tr>\n",
       "  </thead>\n",
       "  <tbody>\n",
       "    <tr>\n",
       "      <th>0</th>\n",
       "      <td>26-feb-2010</td>\n",
       "      <td>8.3</td>\n",
       "      <td>14</td>\n",
       "      <td>20</td>\n",
       "      <td></td>\n",
       "    </tr>\n",
       "    <tr>\n",
       "      <th>1</th>\n",
       "      <td>27-feb-2010</td>\n",
       "      <td>4.3</td>\n",
       "      <td>9</td>\n",
       "      <td>14</td>\n",
       "      <td>good</td>\n",
       "    </tr>\n",
       "    <tr>\n",
       "      <th>2</th>\n",
       "      <td>28-feb-2010</td>\n",
       "      <td>4.9</td>\n",
       "      <td>17</td>\n",
       "      <td>24</td>\n",
       "      <td></td>\n",
       "    </tr>\n",
       "    <tr>\n",
       "      <th>3</th>\n",
       "      <td>01-mar-2010</td>\n",
       "      <td>2.3</td>\n",
       "      <td>6</td>\n",
       "      <td>8</td>\n",
       "      <td></td>\n",
       "    </tr>\n",
       "    <tr>\n",
       "      <th>4</th>\n",
       "      <td>02-mar-2010</td>\n",
       "      <td>7.1</td>\n",
       "      <td>12</td>\n",
       "      <td>19</td>\n",
       "      <td></td>\n",
       "    </tr>\n",
       "  </tbody>\n",
       "</table>\n",
       "</div>"
      ],
      "text/plain": [
       "          date  wdsp  hm  hg category\n",
       "0  26-feb-2010   8.3  14  20         \n",
       "1  27-feb-2010   4.3   9  14     good\n",
       "2  28-feb-2010   4.9  17  24         \n",
       "3  01-mar-2010   2.3   6   8         \n",
       "4  02-mar-2010   7.1  12  19         "
      ]
     },
     "execution_count": 332,
     "metadata": {},
     "output_type": "execute_result"
    }
   ],
   "source": [
    "weather['category']=''\n",
    "x=1\n",
    "weather.loc[x, 'category'] = \"good\"\n",
    "weather.head(5)"
   ]
  },
  {
   "cell_type": "markdown",
   "metadata": {},
   "source": [
    "We will now add a column to the weather dataframe to categorize the windspeed "
   ]
  },
  {
   "cell_type": "code",
   "execution_count": null,
   "metadata": {},
   "outputs": [],
   "source": [
    "# create a new column\n",
    "weather['category']=''\n",
    "#for row in weather.itertuples():\n",
    "    #if row.wdsp == ' ':\n",
    "    #    print('found blank ', row)\n",
    "\n",
    "    run = True\n",
    "    while (run):\n",
    "        choice = menu.do_menu()\n",
    "        match choice:\n",
    "\n",
    "            case 0:\n",
    "                # Exit the program\n",
    "                print(\"Exiting...\")\n",
    "                run = False\n",
    "\n",
    "            case 1:\n",
    "                # Write the overall summary for the dataset, and the summary for each species to a text file\n",
    "                ws.summary(iris, \"all\")\n",
    "\n",
    "            case 2:\n",
    "                # Draw the plots for all variables in one figure\n",
    "                ha.plot_all(iris)\n",
    "\n",
    "            case 3:\n",
    "\n",
    "            case 4:\n",
    "                # Draw the scatter plots - function is contained in scatter_all.py\n",
    "                # Generate plots with both Matplotlib and Seaborn for comparison\n",
    "                sa.scatter_all(iris)\n",
    "\n",
    "            case 5:\n",
    "                # Pandas correlation function here:\n",
    "                wc.iris_corr(iris)\n",
    "\n",
    "            case 6:\n",
    "                # Experimental code for best fit here\n",
    "                bf.bestfit_all(iris)\n",
    "\n",
    "            case _:\n",
    "                # Catch-all for entries other than the ones listed above\n",
    "                print(\"Invalid entry, exiting...\")\n",
    "                run = False\n"
   ]
  },
  {
   "cell_type": "markdown",
   "metadata": {},
   "source": [
    "## References\n",
    "g1. https://en.wikipedia.org/wiki/Galway_Wind_Park"
   ]
  }
 ],
 "metadata": {
  "kernelspec": {
   "display_name": "base",
   "language": "python",
   "name": "python3"
  },
  "language_info": {
   "codemirror_mode": {
    "name": "ipython",
    "version": 3
   },
   "file_extension": ".py",
   "mimetype": "text/x-python",
   "name": "python",
   "nbconvert_exporter": "python",
   "pygments_lexer": "ipython3",
   "version": "3.11.7"
  }
 },
 "nbformat": 4,
 "nbformat_minor": 2
}
